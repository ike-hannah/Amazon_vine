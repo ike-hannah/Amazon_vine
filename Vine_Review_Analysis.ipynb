{
  "nbformat": 4,
  "nbformat_minor": 0,
  "metadata": {
    "colab": {
      "name": "Vine_Review_Analysis.ipynb",
      "provenance": [],
      "collapsed_sections": []
    },
    "kernelspec": {
      "name": "python3",
      "display_name": "Python 3"
    },
    "language_info": {
      "name": "python"
    }
  },
  "cells": [
    {
      "cell_type": "code",
      "execution_count": 1,
      "metadata": {
        "colab": {
          "base_uri": "https://localhost:8080/"
        },
        "id": "haBOK1Ov7E8k",
        "outputId": "d51bccab-75dd-4475-9cfd-0a14ba8efa78"
      },
      "outputs": [
        {
          "output_type": "stream",
          "name": "stdout",
          "text": [
            "\r0% [Working]\r            \rHit:1 https://developer.download.nvidia.com/compute/cuda/repos/ubuntu1804/x86_64  InRelease\n",
            "Hit:2 https://cloud.r-project.org/bin/linux/ubuntu bionic-cran40/ InRelease\n",
            "Hit:3 http://security.ubuntu.com/ubuntu bionic-security InRelease\n",
            "Hit:4 http://archive.ubuntu.com/ubuntu bionic InRelease\n",
            "Ign:5 https://developer.download.nvidia.com/compute/machine-learning/repos/ubuntu1804/x86_64  InRelease\n",
            "Hit:6 https://developer.download.nvidia.com/compute/machine-learning/repos/ubuntu1804/x86_64  Release\n",
            "Hit:7 http://ppa.launchpad.net/c2d4u.team/c2d4u4.0+/ubuntu bionic InRelease\n",
            "Hit:8 http://archive.ubuntu.com/ubuntu bionic-updates InRelease\n",
            "Hit:9 http://archive.ubuntu.com/ubuntu bionic-backports InRelease\n",
            "Hit:10 http://ppa.launchpad.net/cran/libgit2/ubuntu bionic InRelease\n",
            "Hit:12 http://ppa.launchpad.net/deadsnakes/ppa/ubuntu bionic InRelease\n",
            "Hit:13 http://ppa.launchpad.net/graphics-drivers/ppa/ubuntu bionic InRelease\n",
            "Reading package lists... Done\n"
          ]
        }
      ],
      "source": [
        "import os\n",
        "# Find the latest version of spark 3.0 from http://www.apache.org/dist/spark/ and enter as the spark version\n",
        "# For example:\n",
        "# spark_version = 'spark-3.0.3'\n",
        "spark_version = 'spark-3.0.3'\n",
        "os.environ['SPARK_VERSION']=spark_version\n",
        "\n",
        "# Install Spark and Java\n",
        "!apt-get update\n",
        "!apt-get install openjdk-11-jdk-headless -qq > /dev/null\n",
        "!wget -q http://www.apache.org/dist/spark/$SPARK_VERSION/$SPARK_VERSION-bin-hadoop2.7.tgz\n",
        "!tar xf $SPARK_VERSION-bin-hadoop2.7.tgz\n",
        "!pip install -q findspark\n",
        "\n",
        "# Set Environment Variables\n",
        "import os\n",
        "os.environ[\"JAVA_HOME\"] = \"/usr/lib/jvm/java-11-openjdk-amd64\"\n",
        "os.environ[\"SPARK_HOME\"] = f\"/content/{spark_version}-bin-hadoop2.7\"\n",
        "\n",
        "# Start a SparkSession\n",
        "import findspark\n",
        "findspark.init()"
      ]
    },
    {
      "cell_type": "code",
      "source": [
        "# Download the Postgres driver that will allow Spark to interact with Postgres.\n",
        "!wget https://jdbc.postgresql.org/download/postgresql-42.2.16.jar"
      ],
      "metadata": {
        "colab": {
          "base_uri": "https://localhost:8080/"
        },
        "id": "GTVgBlD_7N34",
        "outputId": "10170f25-5296-4ffb-ca82-568c13e95018"
      },
      "execution_count": 2,
      "outputs": [
        {
          "output_type": "stream",
          "name": "stdout",
          "text": [
            "--2022-05-23 13:39:17--  https://jdbc.postgresql.org/download/postgresql-42.2.16.jar\n",
            "Resolving jdbc.postgresql.org (jdbc.postgresql.org)... 72.32.157.228, 2001:4800:3e1:1::228\n",
            "Connecting to jdbc.postgresql.org (jdbc.postgresql.org)|72.32.157.228|:443... connected.\n",
            "HTTP request sent, awaiting response... 200 OK\n",
            "Length: 1002883 (979K) [application/java-archive]\n",
            "Saving to: ‘postgresql-42.2.16.jar.1’\n",
            "\n",
            "postgresql-42.2.16. 100%[===================>] 979.38K  1.22MB/s    in 0.8s    \n",
            "\n",
            "2022-05-23 13:39:19 (1.22 MB/s) - ‘postgresql-42.2.16.jar.1’ saved [1002883/1002883]\n",
            "\n"
          ]
        }
      ]
    },
    {
      "cell_type": "code",
      "source": [
        "from pyspark.sql import SparkSession\n",
        "spark = SparkSession.builder.appName(\"M16-Amazon-Challenge\").config(\"spark.driver.extraClassPath\",\"/content/postgresql-42.2.16.jar\").getOrCreate()"
      ],
      "metadata": {
        "id": "MCa0jC7Z7Xa1"
      },
      "execution_count": 3,
      "outputs": []
    },
    {
      "cell_type": "code",
      "source": [
        "from pyspark import SparkFiles\n",
        "url = \"https://s3.amazonaws.com/amazon-reviews-pds/tsv/amazon_reviews_us_Tools_v1_00.tsv.gz\"\n",
        "spark.sparkContext.addFile(url)\n",
        "df = spark.read.option(\"encoding\", \"UTF-8\").csv(SparkFiles.get(\"\"), sep=\"\\t\", header=True, inferSchema=True)\n",
        "df.show()"
      ],
      "metadata": {
        "colab": {
          "base_uri": "https://localhost:8080/"
        },
        "id": "RETmy8nW7aKj",
        "outputId": "e526b1fa-13db-4aae-c87f-926df6ab4423"
      },
      "execution_count": 4,
      "outputs": [
        {
          "output_type": "stream",
          "name": "stdout",
          "text": [
            "+-----------+-----------+--------------+----------+--------------+--------------------+----------------+-----------+-------------+-----------+----+-----------------+--------------------+--------------------+-----------+\n",
            "|marketplace|customer_id|     review_id|product_id|product_parent|       product_title|product_category|star_rating|helpful_votes|total_votes|vine|verified_purchase|     review_headline|         review_body|review_date|\n",
            "+-----------+-----------+--------------+----------+--------------+--------------------+----------------+-----------+-------------+-----------+----+-----------------+--------------------+--------------------+-----------+\n",
            "|         US|   15785389|R2UM5QMHBHC90Q|B00H5U9ZD6|     115362950|WallPeg 12 sq ft ...|           Tools|          5|            0|          0|   N|                Y|Great organizer, ...|Very nice. Will o...| 2015-08-31|\n",
            "|         US|   47910848|  RF0D1LEIF6L7|B001TJGCS0|     570955425|Nite Ize Nite Daw...|           Tools|          4|            0|          0|   N|                Y|Like it, but the ...|Like it, but the ...| 2015-08-31|\n",
            "|         US|   36328996|  RM6YKIWQVNSY|B000NIK8JW|     128843593|Stanley 84-058 4 ...|           Tools|          1|            6|          6|   N|                Y|        poor quality|We were excited t...| 2015-08-31|\n",
            "|         US|   51785809|R1RL3L68ASPS36|B008ZYRGUA|     407828107|Powerextra 14.4V ...|           Tools|          4|            0|          0|   N|                Y|          Four Stars|Quick delivery. P...| 2015-08-31|\n",
            "|         US|   40757491|R1U4XFBFAG34CY|B00K5CA0GC|     490746675|Waterproof Invisi...|           Tools|          5|            0|          0|   N|                Y|          Five Stars|Quality waterproo...| 2015-08-31|\n",
            "|         US|   35544833|R3KFIK8P0I91PL|B00AIJAA94|     148352067|Crime Scene Do No...|           Tools|          5|            0|          0|   N|                Y|Excellent Decorat...|Ordered for my hu...| 2015-08-31|\n",
            "|         US|   16474909| RENOAY76PPK1O|B00JKEI6K8|     331801084|Aweek® 2 Pcs Bicy...|           Tools|          5|            0|          0|   N|                Y|          Five Stars|GREAT SELLER PROD...| 2015-08-31|\n",
            "|         US|   22601598| RINV884I0NL5V|B00AGCHVS6|     471514859|Ryobi P102 Genuin...|           Tools|          1|            0|          0|   N|                Y|Worked great for ...|My battery has di...| 2015-08-31|\n",
            "|         US|   16129808| R5KJH6CXZH2PX|B002S0O7U4|     162253576|Wiha 66995 6-Piec...|           Tools|          5|            0|          0|   N|                Y|       Great quality|Great product at ...| 2015-08-31|\n",
            "|         US|   24382335| RO69JF6QWD0W1|B0084YHXMW|      69530650|TOMTOP LED Submar...|           Tools|          5|            0|          0|   N|                Y|          Five Stars|           Excellent| 2015-08-31|\n",
            "|         US|   49796324|R3L9NQBH3FI55C|B00MLSS1SW|     916693555|Black & Decker BD...|           Tools|          4|            1|          1|   N|                Y|Really worked great!|This little sande...| 2015-08-31|\n",
            "|         US|   33289687| R4YH95YPHVU0C|B00D4WLS2A|      39333316|Crain 126 Staple ...|           Tools|          5|            0|          0|   N|                Y|         LOVE IT!!!!|This is the most ...| 2015-08-31|\n",
            "|         US|   10916386|R10M1WWDDQBGG2|B00JGCDV5Y|     550596607|Diamond Semi Roun...|           Tools|          2|            0|          0|   N|                Y|I needed to cut s...|I needed to cut s...| 2015-08-31|\n",
            "|         US|   34071500| RV3KWQBTNIO62|B00N0PS3YM|     735538025|It Mall 9 LED 375...|           Tools|          5|            1|          1|   N|                Y|   Works pretty well|Lights up small d...| 2015-08-31|\n",
            "|         US|   50594486|R1M7YUNLZI0G9F|B0000DD4KV|     506501960|IRWIN Tools Metri...|           Tools|          5|            1|          1|   N|                Y|          Five Stars|Great product for...| 2015-08-31|\n",
            "|         US|   21945887|R2MTL2D4E4HEF4|B0009H5FB8|     268586246|743022-A Backing ...|           Tools|          5|            0|          0|   N|                Y|          Five Stars|Many thanks for t...| 2015-08-31|\n",
            "|         US|   47749608| RXAHWIC1584UQ|B00NKSMPZW|     824618679|ClearArmor 141001...|           Tools|          5|           20|         23|   N|                Y|          Five Stars|geart product :) ...| 2015-08-31|\n",
            "|         US|   48880662| RMOIQFERVQDWS|B00RBAB92K|     156791442|KKmoon 9cm Mini A...|           Tools|          5|            0|          0|   N|                Y|          Five Stars|           very good| 2015-08-31|\n",
            "|         US|    4660265| R710G45MKODY9|B00QGBNZVI|     962324810|Refun E6 High Pow...|           Tools|          2|            1|          1|   N|                Y|           Two Stars|Scratches on lenses.| 2015-08-31|\n",
            "|         US|   18397238|R23ZIUGUM7TBMY|B00XXU3CDG|     543062309|Dr.meter S20 Mois...|           Tools|          1|            0|          1|   N|                Y|Don't waste your ...|It's a piece of $...| 2015-08-31|\n",
            "+-----------+-----------+--------------+----------+--------------+--------------------+----------------+-----------+-------------+-----------+----+-----------------+--------------------+--------------------+-----------+\n",
            "only showing top 20 rows\n",
            "\n"
          ]
        }
      ]
    },
    {
      "cell_type": "code",
      "source": [
        "from pyspark.sql.functions import to_date\n",
        "# Read in the Review dataset as a DataFrame\n",
        "clean_df = df.dropna()"
      ],
      "metadata": {
        "id": "K0rFUAsI8ADg"
      },
      "execution_count": 5,
      "outputs": []
    },
    {
      "cell_type": "code",
      "source": [
        "vine_df = clean_df.select([\"review_id\",\"star_rating\",\"helpful_votes\",\"total_votes\",\"vine\",\"verified_purchase\"])\n",
        "vine_df.show()"
      ],
      "metadata": {
        "colab": {
          "base_uri": "https://localhost:8080/"
        },
        "id": "hLaza9ov8E_7",
        "outputId": "af61b409-6647-4a06-df5c-748629eddb3b"
      },
      "execution_count": 6,
      "outputs": [
        {
          "output_type": "stream",
          "name": "stdout",
          "text": [
            "+--------------+-----------+-------------+-----------+----+-----------------+\n",
            "|     review_id|star_rating|helpful_votes|total_votes|vine|verified_purchase|\n",
            "+--------------+-----------+-------------+-----------+----+-----------------+\n",
            "|R2UM5QMHBHC90Q|          5|            0|          0|   N|                Y|\n",
            "|  RF0D1LEIF6L7|          4|            0|          0|   N|                Y|\n",
            "|  RM6YKIWQVNSY|          1|            6|          6|   N|                Y|\n",
            "|R1RL3L68ASPS36|          4|            0|          0|   N|                Y|\n",
            "|R1U4XFBFAG34CY|          5|            0|          0|   N|                Y|\n",
            "|R3KFIK8P0I91PL|          5|            0|          0|   N|                Y|\n",
            "| RENOAY76PPK1O|          5|            0|          0|   N|                Y|\n",
            "| RINV884I0NL5V|          1|            0|          0|   N|                Y|\n",
            "| R5KJH6CXZH2PX|          5|            0|          0|   N|                Y|\n",
            "| RO69JF6QWD0W1|          5|            0|          0|   N|                Y|\n",
            "|R3L9NQBH3FI55C|          4|            1|          1|   N|                Y|\n",
            "| R4YH95YPHVU0C|          5|            0|          0|   N|                Y|\n",
            "|R10M1WWDDQBGG2|          2|            0|          0|   N|                Y|\n",
            "| RV3KWQBTNIO62|          5|            1|          1|   N|                Y|\n",
            "|R1M7YUNLZI0G9F|          5|            1|          1|   N|                Y|\n",
            "|R2MTL2D4E4HEF4|          5|            0|          0|   N|                Y|\n",
            "| RXAHWIC1584UQ|          5|           20|         23|   N|                Y|\n",
            "| RMOIQFERVQDWS|          5|            0|          0|   N|                Y|\n",
            "| R710G45MKODY9|          2|            1|          1|   N|                Y|\n",
            "|R23ZIUGUM7TBMY|          1|            0|          1|   N|                Y|\n",
            "+--------------+-----------+-------------+-----------+----+-----------------+\n",
            "only showing top 20 rows\n",
            "\n"
          ]
        }
      ]
    },
    {
      "cell_type": "code",
      "source": [
        "vote_count_20 = vine_df.filter(\"total_votes >= 20\")\n",
        "vote_count_20.show()"
      ],
      "metadata": {
        "colab": {
          "base_uri": "https://localhost:8080/"
        },
        "id": "i9GwlcCr8K08",
        "outputId": "fef9de07-5210-409b-fd7a-c2644ac4d2b3"
      },
      "execution_count": 7,
      "outputs": [
        {
          "output_type": "stream",
          "name": "stdout",
          "text": [
            "+--------------+-----------+-------------+-----------+----+-----------------+\n",
            "|     review_id|star_rating|helpful_votes|total_votes|vine|verified_purchase|\n",
            "+--------------+-----------+-------------+-----------+----+-----------------+\n",
            "| RXAHWIC1584UQ|          5|           20|         23|   N|                Y|\n",
            "| RSBELAIC899DO|          5|           46|         51|   N|                Y|\n",
            "|R2HCC4CJ59D225|          4|           43|         43|   N|                Y|\n",
            "|R39BVCCVPRV6F5|          5|           10|         22|   N|                Y|\n",
            "| RL9VF9WXHEHKR|          5|           35|         36|   N|                Y|\n",
            "|R1ZINLWUOLTZ46|          1|           39|         45|   N|                N|\n",
            "|R1CQKM1K1CHOHS|          1|           21|         22|   N|                N|\n",
            "|R1ZG19X1NOLCRF|          5|            5|         21|   N|                Y|\n",
            "|R1YOX5Z4GF3ZSW|          1|            1|         22|   N|                Y|\n",
            "| R2DHAM7J1KMWN|          5|           23|         24|   N|                N|\n",
            "|R2KOLBXPW57WC3|          1|            4|         38|   N|                N|\n",
            "|R26EZ2INBETPU2|          1|          103|        128|   N|                N|\n",
            "|R265ZMDO2ISN1O|          5|           20|         21|   N|                Y|\n",
            "|R3NZ7JTOCPYE1S|          4|           32|         33|   N|                Y|\n",
            "|R3HQQ725T45NCH|          3|            9|         21|   N|                Y|\n",
            "|R15JJ5AGVSB71T|          5|           33|         33|   N|                Y|\n",
            "|R28WDBNT2XRACG|          1|           19|         24|   N|                Y|\n",
            "|R3HP224QDFQ2SN|          5|           21|         22|   N|                Y|\n",
            "| RTURVI4KNPMG1|          5|          146|        154|   N|                Y|\n",
            "| RH2BXZ337F38J|          5|           62|         66|   N|                Y|\n",
            "+--------------+-----------+-------------+-----------+----+-----------------+\n",
            "only showing top 20 rows\n",
            "\n"
          ]
        }
      ]
    },
    {
      "cell_type": "code",
      "source": [
        "vote_count_50 = vote_count_20.filter(\"(helpful_votes/total_votes)>=0.5\")\n",
        "vote_count_50.show()"
      ],
      "metadata": {
        "colab": {
          "base_uri": "https://localhost:8080/"
        },
        "id": "z8dgbVYy8Vdl",
        "outputId": "38a80822-ff62-4b25-ad1b-67bf796817aa"
      },
      "execution_count": 8,
      "outputs": [
        {
          "output_type": "stream",
          "name": "stdout",
          "text": [
            "+--------------+-----------+-------------+-----------+----+-----------------+\n",
            "|     review_id|star_rating|helpful_votes|total_votes|vine|verified_purchase|\n",
            "+--------------+-----------+-------------+-----------+----+-----------------+\n",
            "| RXAHWIC1584UQ|          5|           20|         23|   N|                Y|\n",
            "| RSBELAIC899DO|          5|           46|         51|   N|                Y|\n",
            "|R2HCC4CJ59D225|          4|           43|         43|   N|                Y|\n",
            "| RL9VF9WXHEHKR|          5|           35|         36|   N|                Y|\n",
            "|R1ZINLWUOLTZ46|          1|           39|         45|   N|                N|\n",
            "|R1CQKM1K1CHOHS|          1|           21|         22|   N|                N|\n",
            "| R2DHAM7J1KMWN|          5|           23|         24|   N|                N|\n",
            "|R26EZ2INBETPU2|          1|          103|        128|   N|                N|\n",
            "|R265ZMDO2ISN1O|          5|           20|         21|   N|                Y|\n",
            "|R3NZ7JTOCPYE1S|          4|           32|         33|   N|                Y|\n",
            "|R15JJ5AGVSB71T|          5|           33|         33|   N|                Y|\n",
            "|R28WDBNT2XRACG|          1|           19|         24|   N|                Y|\n",
            "|R3HP224QDFQ2SN|          5|           21|         22|   N|                Y|\n",
            "| RTURVI4KNPMG1|          5|          146|        154|   N|                Y|\n",
            "| RH2BXZ337F38J|          5|           62|         66|   N|                Y|\n",
            "|R3G8L2NRMZZHPI|          4|           23|         23|   N|                Y|\n",
            "|R21Q3I2ZEDSMZK|          5|           80|         84|   N|                Y|\n",
            "|R16MXXKY0MRKZW|          1|           48|         52|   N|                Y|\n",
            "|R121P6RES3Z7WC|          1|          145|        162|   N|                Y|\n",
            "|R1ILUNGUCRZGF3|          5|           21|         21|   N|                Y|\n",
            "+--------------+-----------+-------------+-----------+----+-----------------+\n",
            "only showing top 20 rows\n",
            "\n"
          ]
        }
      ]
    },
    {
      "cell_type": "code",
      "source": [
        "paid_reviews = vote_count_50.filter(\"vine == 'Y'\")\n",
        "paid_reviews.show()"
      ],
      "metadata": {
        "colab": {
          "base_uri": "https://localhost:8080/"
        },
        "id": "5M6xSTr38nPB",
        "outputId": "a30d24a6-c372-42ed-ab47-73300e528403"
      },
      "execution_count": 9,
      "outputs": [
        {
          "output_type": "stream",
          "name": "stdout",
          "text": [
            "+--------------+-----------+-------------+-----------+----+-----------------+\n",
            "|     review_id|star_rating|helpful_votes|total_votes|vine|verified_purchase|\n",
            "+--------------+-----------+-------------+-----------+----+-----------------+\n",
            "|R3QIQRG107AP19|          5|           38|         41|   Y|                N|\n",
            "|R1ZNBHGCYE8VN1|          5|          175|        181|   Y|                N|\n",
            "|R1BNZJ9IKGRBC2|          4|           63|         70|   Y|                N|\n",
            "|R2IXTN4PBRHBO2|          5|           19|         24|   Y|                N|\n",
            "|R32AOW3L09SYMQ|          5|           29|         34|   Y|                N|\n",
            "|R34Z4VTLF7PC6X|          4|           33|         36|   Y|                N|\n",
            "|R25403NE9JCRZZ|          2|           36|         40|   Y|                N|\n",
            "|R2QT2G3YRGC0PS|          5|           18|         20|   Y|                N|\n",
            "| RDUP15OURNUSA|          5|           22|         23|   Y|                N|\n",
            "|R1EI4NZTG7G14F|          5|           17|         23|   Y|                N|\n",
            "|R2G0YB0MC67NLG|          5|           29|         38|   Y|                N|\n",
            "| RGA1PHAE93JR2|          1|           16|         21|   Y|                N|\n",
            "|R1QS5MKSKOGG0U|          5|           15|         20|   Y|                N|\n",
            "|R3MVW880K2V5BK|          3|           37|         46|   Y|                N|\n",
            "|R11JKXPSMHSZY1|          4|           21|         28|   Y|                N|\n",
            "|  RSPSTXGY3OD8|          5|           29|         33|   Y|                N|\n",
            "| RQO0NNMNWRLB4|          3|           47|         54|   Y|                N|\n",
            "|R3H5BSP5KCFHBG|          4|           19|         21|   Y|                N|\n",
            "|R2AIJIWME1WDKN|          5|           16|         24|   Y|                N|\n",
            "| R585MGH89JZZ5|          5|           27|         34|   Y|                N|\n",
            "+--------------+-----------+-------------+-----------+----+-----------------+\n",
            "only showing top 20 rows\n",
            "\n"
          ]
        }
      ]
    },
    {
      "cell_type": "code",
      "source": [
        "unpaid_reviews = vote_count_50.filter(\"vine == 'N'\")\n",
        "unpaid_reviews.show()"
      ],
      "metadata": {
        "colab": {
          "base_uri": "https://localhost:8080/"
        },
        "id": "WhavbHN-9HVE",
        "outputId": "2bbb32eb-a078-4977-cb2c-01a238951317"
      },
      "execution_count": 10,
      "outputs": [
        {
          "output_type": "stream",
          "name": "stdout",
          "text": [
            "+--------------+-----------+-------------+-----------+----+-----------------+\n",
            "|     review_id|star_rating|helpful_votes|total_votes|vine|verified_purchase|\n",
            "+--------------+-----------+-------------+-----------+----+-----------------+\n",
            "| RXAHWIC1584UQ|          5|           20|         23|   N|                Y|\n",
            "| RSBELAIC899DO|          5|           46|         51|   N|                Y|\n",
            "|R2HCC4CJ59D225|          4|           43|         43|   N|                Y|\n",
            "| RL9VF9WXHEHKR|          5|           35|         36|   N|                Y|\n",
            "|R1ZINLWUOLTZ46|          1|           39|         45|   N|                N|\n",
            "|R1CQKM1K1CHOHS|          1|           21|         22|   N|                N|\n",
            "| R2DHAM7J1KMWN|          5|           23|         24|   N|                N|\n",
            "|R26EZ2INBETPU2|          1|          103|        128|   N|                N|\n",
            "|R265ZMDO2ISN1O|          5|           20|         21|   N|                Y|\n",
            "|R3NZ7JTOCPYE1S|          4|           32|         33|   N|                Y|\n",
            "|R15JJ5AGVSB71T|          5|           33|         33|   N|                Y|\n",
            "|R28WDBNT2XRACG|          1|           19|         24|   N|                Y|\n",
            "|R3HP224QDFQ2SN|          5|           21|         22|   N|                Y|\n",
            "| RTURVI4KNPMG1|          5|          146|        154|   N|                Y|\n",
            "| RH2BXZ337F38J|          5|           62|         66|   N|                Y|\n",
            "|R3G8L2NRMZZHPI|          4|           23|         23|   N|                Y|\n",
            "|R21Q3I2ZEDSMZK|          5|           80|         84|   N|                Y|\n",
            "|R16MXXKY0MRKZW|          1|           48|         52|   N|                Y|\n",
            "|R121P6RES3Z7WC|          1|          145|        162|   N|                Y|\n",
            "|R1ILUNGUCRZGF3|          5|           21|         21|   N|                Y|\n",
            "+--------------+-----------+-------------+-----------+----+-----------------+\n",
            "only showing top 20 rows\n",
            "\n"
          ]
        }
      ]
    },
    {
      "cell_type": "code",
      "source": [
        "total_reviews = vote_count_50.count()\n",
        "total_reviews"
      ],
      "metadata": {
        "colab": {
          "base_uri": "https://localhost:8080/"
        },
        "id": "68eo_rvl9gji",
        "outputId": "556ae0fe-5fd6-4fb4-937e-ba638fcd2ab3"
      },
      "execution_count": 11,
      "outputs": [
        {
          "output_type": "execute_result",
          "data": {
            "text/plain": [
              "31827"
            ]
          },
          "metadata": {},
          "execution_count": 11
        }
      ]
    },
    {
      "cell_type": "code",
      "source": [
        "paid_reviews_T = vote_count_50.filter(\"vine == 'Y'\")\n",
        "paid_reviews_T_count = paid_reviews_T.count()\n",
        "paid_reviews_T_count"
      ],
      "metadata": {
        "colab": {
          "base_uri": "https://localhost:8080/"
        },
        "id": "Hi98TZbt9urv",
        "outputId": "01622cc5-8265-4bda-d22f-2295b9aeb157"
      },
      "execution_count": 12,
      "outputs": [
        {
          "output_type": "execute_result",
          "data": {
            "text/plain": [
              "285"
            ]
          },
          "metadata": {},
          "execution_count": 12
        }
      ]
    },
    {
      "cell_type": "code",
      "source": [
        "unpaid_reviews_T = vote_count_50.filter (\"vine == 'N'\")\n",
        "unpaid_reviews_T_count = unpaid_reviews_T.count()\n",
        "unpaid_reviews_T_count"
      ],
      "metadata": {
        "colab": {
          "base_uri": "https://localhost:8080/"
        },
        "id": "T9ENg7FW-C6u",
        "outputId": "1cc3b5e6-3c59-4d86-9993-3957b7e7a744"
      },
      "execution_count": 13,
      "outputs": [
        {
          "output_type": "execute_result",
          "data": {
            "text/plain": [
              "31542"
            ]
          },
          "metadata": {},
          "execution_count": 13
        }
      ]
    },
    {
      "cell_type": "code",
      "source": [
        "Five_star_reviews = vote_count_50.filter(\"star_rating == 5\")\n",
        "Five_star_reviews_count = Five_star_reviews.count()\n",
        "Five_star_reviews_count"
      ],
      "metadata": {
        "colab": {
          "base_uri": "https://localhost:8080/"
        },
        "id": "tRJCOgKO-7g7",
        "outputId": "1b07ff32-49bb-47c6-ad5e-6053fee3cd64"
      },
      "execution_count": 14,
      "outputs": [
        {
          "output_type": "execute_result",
          "data": {
            "text/plain": [
              "14777"
            ]
          },
          "metadata": {},
          "execution_count": 14
        }
      ]
    },
    {
      "cell_type": "code",
      "source": [
        "paid_5star_reviews = paid_reviews_T.filter(\"star_rating == 5\")\n",
        "paid_5star_reviews_count = paid_5star_reviews.count()\n",
        "paid_5star_reviews_count"
      ],
      "metadata": {
        "colab": {
          "base_uri": "https://localhost:8080/"
        },
        "id": "fxtoqe1l_b9U",
        "outputId": "d0e74c6c-59e2-485f-a09e-a952a58b3514"
      },
      "execution_count": 15,
      "outputs": [
        {
          "output_type": "execute_result",
          "data": {
            "text/plain": [
              "163"
            ]
          },
          "metadata": {},
          "execution_count": 15
        }
      ]
    },
    {
      "cell_type": "code",
      "source": [
        "unpaid_5star_reviews = unpaid_reviews_T.filter(\"star_rating == 5\")\n",
        "unpaid_5star_reviews_count = unpaid_5star_reviews.count()\n",
        "unpaid_5star_reviews_count"
      ],
      "metadata": {
        "colab": {
          "base_uri": "https://localhost:8080/"
        },
        "id": "fQl0ZAjk_fOB",
        "outputId": "7c72034f-b83b-442b-a4b3-3d7d11a612b7"
      },
      "execution_count": 16,
      "outputs": [
        {
          "output_type": "execute_result",
          "data": {
            "text/plain": [
              "14614"
            ]
          },
          "metadata": {},
          "execution_count": 16
        }
      ]
    },
    {
      "cell_type": "code",
      "source": [
        "paid_5star_percent = (paid_5star_reviews_count/paid_reviews_T_count) * 100 \n",
        "round(paid_5star_percent, 2)"
      ],
      "metadata": {
        "colab": {
          "base_uri": "https://localhost:8080/"
        },
        "id": "ev4U-8RAB6GQ",
        "outputId": "d667edfa-8820-419c-8153-65d7331c2911"
      },
      "execution_count": 17,
      "outputs": [
        {
          "output_type": "execute_result",
          "data": {
            "text/plain": [
              "57.19"
            ]
          },
          "metadata": {},
          "execution_count": 17
        }
      ]
    },
    {
      "cell_type": "code",
      "source": [
        "percent_total_5star = (paid_5star_reviews_count/Five_star_reviews_count) * 100\n",
        "round(percent_total_5star, 2)"
      ],
      "metadata": {
        "colab": {
          "base_uri": "https://localhost:8080/"
        },
        "id": "hetCx155CN2K",
        "outputId": "a6b284ed-9a54-4c6a-b792-663954e4d687"
      },
      "execution_count": 18,
      "outputs": [
        {
          "output_type": "execute_result",
          "data": {
            "text/plain": [
              "1.1"
            ]
          },
          "metadata": {},
          "execution_count": 18
        }
      ]
    },
    {
      "cell_type": "code",
      "source": [
        "unpaid_vs_unpaid_total = (unpaid_5star_reviews_count/unpaid_reviews_T_count) * 100\n",
        "round(unpaid_vs_unpaid_total, 3)"
      ],
      "metadata": {
        "colab": {
          "base_uri": "https://localhost:8080/"
        },
        "id": "cBeTxOQBCWKc",
        "outputId": "eb91a70d-dab5-4b61-c674-55721a09c0d4"
      },
      "execution_count": 19,
      "outputs": [
        {
          "output_type": "execute_result",
          "data": {
            "text/plain": [
              "46.332"
            ]
          },
          "metadata": {},
          "execution_count": 19
        }
      ]
    },
    {
      "cell_type": "code",
      "source": [
        "unpaid_vs_5star = (unpaid_5star_reviews_count/Five_star_reviews_count) * 100\n",
        "round(unpaid_vs_5star, 3)"
      ],
      "metadata": {
        "colab": {
          "base_uri": "https://localhost:8080/"
        },
        "id": "R3UU1775CYyT",
        "outputId": "bd8eb8c7-6fb6-441f-86df-88ff4d194ba5"
      },
      "execution_count": 20,
      "outputs": [
        {
          "output_type": "execute_result",
          "data": {
            "text/plain": [
              "98.897"
            ]
          },
          "metadata": {},
          "execution_count": 20
        }
      ]
    }
  ]
}